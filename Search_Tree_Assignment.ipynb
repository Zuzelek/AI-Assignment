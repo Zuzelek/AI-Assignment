{
  "cells": [
    {
      "cell_type": "markdown",
      "metadata": {
        "id": "view-in-github",
        "colab_type": "text"
      },
      "source": [
        "<a href=\"https://colab.research.google.com/github/Zuzelek/AI-Assignment/blob/master/Search_Tree_Assignment.ipynb\" target=\"_parent\"><img src=\"https://colab.research.google.com/assets/colab-badge.svg\" alt=\"Open In Colab\"/></a>"
      ]
    },
    {
      "cell_type": "markdown",
      "metadata": {
        "id": "n4ESOmAFmgQC"
      },
      "source": [
        "***Implementation of the Nim Game with Minimax Search***\n",
        "\n"
      ]
    },
    {
      "cell_type": "markdown",
      "metadata": {
        "id": "6zoXF_AVm9b6"
      },
      "source": [
        "**Introduction**\n",
        "\n",
        "For this project, I implemented a classic game of Nim using a minimax search algorithm. Nim is a mathematical strategy game where players take turns removing objects from distinct piles. The objective is to take the last object, following the normal play convention (whoever takes the last stick wins).\n",
        "\n",
        "The purpose of this project is to demonstrate how search tree algorithms can be used to solve perfect information games like Nim, where an optimal strategy can be developed. The minimax algorithm enables the computer to make optimal moves, ensuring it can win approximately 90% of the time by evaluating the best possible strategies in every scenario\n",
        "\n",
        "Rules of Nim\n",
        "*   The game starts with 3 piles of sticks.\n",
        "*   Players take turns removing any number of sticks from a single pile (they cannot remove from multiple piles in one turn).\n",
        "*   The player who takes the last stick wins the game.\n",
        "\n",
        "More details on the rules and strategies for Nim can be found at: https://wild.maths.org/play-win-nim\n",
        "\n",
        "**Algorithm Design**\n",
        "My implementation uses the minimax algorithm to deteminre the best paly in Nim. The minimax algorithm is a decision rule used in Ai for minimizing the possible loss in a worst case scenerio. Its well suited for games like this.\n",
        "\n",
        "The algorithm works in these key steps:\n",
        "\n",
        "\n",
        "1.   Building a complete tree representing all possible game states.\n",
        "2.   Evaluating the state (win/loss) with +1 and -1.\n",
        "3.   At each level, these values are propagated up the tree by switching between maximizing and minimizing.\n",
        "4.   Selecting the move that leads to highest value state for compute rplayer\n",
        "\n",
        "The game is implemented using two primary classes\n",
        "\n",
        "\n",
        "CurrentBoard maintains the game state pile sizes, displayes current boards state, generates all possible moves from current states and determines if the game has reached the finish.\n"
      ]
    },
    {
      "cell_type": "markdown",
      "source": [
        "**Building the Game Board (CurrentBoard())**\n",
        "\n",
        "The core of the game is the CurrentBoard class. This represents the state of the game, keeping track of the number of sticks in each pile and figuring out the available moves. It also handles checking for a win condition.\n",
        "\n",
        "The constructor initializes the game with three default piles: [3, 4, 5]. If I pass in custom piles, it uses those instead. It also sets the state variable, which keeps track of whether the game is over or still ongoing.\n",
        "Next, I needed a function to display the current board so players can see what’s going on, this is the display() function.\n",
        "\n",
        "This just prints out the piles in a way that’s easy to read. If game_display is set to True, it includes the pile number and the stick count.\n",
        "Then, I needed a way to generate all possible moves from the current board, the all_possible_moves function goes through every pile, and for each one, it figures out all the possible ways to take at least one stick. Every valid move creates a new CurrentBoard object representing what the board would look like after that move.\n",
        "\n",
        "Finally, state_of_board checks if all piles are empty, the last player to move won. Otherwise, the game is still in progress"
      ],
      "metadata": {
        "id": "7mBhmVzfBWEv"
      }
    },
    {
      "cell_type": "code",
      "execution_count": null,
      "metadata": {
        "id": "-xXGZl2RFV01"
      },
      "outputs": [],
      "source": [
        "class CurrentBoard():\n",
        "    def __init__(self, piles=None):\n",
        "        # Default initialization with 3 piles of different sizes\n",
        "        if piles is None:\n",
        "            self.piles = [3, 4, 5]\n",
        "        else:\n",
        "            self.piles = piles.copy()\n",
        "        self.state = self.state_of_board()\n",
        "\n",
        "    # Display the Nim board\n",
        "    def display(self, game_display=False):\n",
        "        for i, pile in enumerate(self.piles):\n",
        "            sticks = \"|\" * pile\n",
        "            if game_display:\n",
        "                print(f\"Pile {i}: {sticks} ({pile} sticks)\")\n",
        "            else:\n",
        "                print(f\"Pile {i}: {sticks}\")\n",
        "\n",
        "    def all_possible_moves(self, player=None):\n",
        "        possible_moves = []\n",
        "        for pile_index in range(len(self.piles)):\n",
        "            # For each pile, player can remove 1 to all sticks\n",
        "            for sticks_to_remove in range(1, self.piles[pile_index] + 1):\n",
        "                # Creating a new board state with sticks removed from the current pile\n",
        "                new_piles = self.piles.copy()\n",
        "                new_piles[pile_index] -= sticks_to_remove\n",
        "                possible_moves.append(CurrentBoard(new_piles))\n",
        "\n",
        "        return possible_moves\n",
        "\n",
        "    def other(self, player):\n",
        "        #\n",
        "        if player == 1:\n",
        "            return 2\n",
        "        else:\n",
        "            return 1\n",
        "\n",
        "    def state_of_board(self):\n",
        "        # Check if all piles are empty\n",
        "        if sum(self.piles) == 0:\n",
        "            return \"Win\"  # Indicating a win for the player who just moved\n",
        "        else:\n",
        "            return \"U\"  # Unfinished  the game continues"
      ]
    },
    {
      "cell_type": "code",
      "execution_count": null,
      "metadata": {
        "colab": {
          "base_uri": "https://localhost:8080/"
        },
        "id": "eCuoBRWkK1lw",
        "outputId": "07b84eca-2b5a-46c7-8499-ec497ae9da66"
      },
      "outputs": [
        {
          "name": "stdout",
          "output_type": "stream",
          "text": [
            "Pile 0: |||\n",
            "Pile 1: ||||\n",
            "Pile 2: |||||\n"
          ]
        }
      ],
      "source": [
        "currentboard = CurrentBoard()\n",
        "currentboard.display()"
      ]
    },
    {
      "cell_type": "markdown",
      "metadata": {
        "id": "DjcbAxQ5o966"
      },
      "source": [
        "**MiniMax Algorithm (SearchTreeNode class)**\n",
        "\n",
        "Now for the fun part: making the AI smart. The SearchTreeNode class builds a tree of all possible moves and assigns values to them. It does this by recursively exploring the possible game states and assigning each one a score of +1 (win), -1 (loss), or determining the best move based on its children.\n",
        "\n",
        "The ply_depth variable keeps track of how deep we are in the tree (how many moves ahead we’ve looked). move_for tells us whose turn it is.\n",
        "Now, I need to evaluate the board state:\n",
        "\n",
        "If the board is in a winning state, we assign it a value. If the depth is odd, the maximizing player won, so the value is 1. If it's even, the maximizing player lost, so the value is -1.\n",
        "If the game isn’t over, we generate all possible moves\n",
        "          \n",
        "          elif self.current_board.state == \"U\":\n",
        "            self.generate_children()\n",
        "            if not self.children:\n",
        "                if (self.ply_depth % 2) == 0:\n",
        "                    self.value = -1  # Maximizer lost\n",
        "                else:\n",
        "                    self.value = 1  # Minimizer lost\n",
        "                self.value_is_assigned = True\n",
        "\n",
        "**Minimax Evaluation**\n",
        "Now comes the actual minimax decision-making:\n",
        "\n",
        "    def min_max_value(self):\n",
        "        if self.value_is_assigned:\n",
        "            return self.value\n",
        "\n",
        "        self.children = sorted(self.children, key=lambda x: x.min_max_value())\n",
        "\n",
        "        if (self.ply_depth % 2) == 0:\n",
        "            self.value = self.children[-1].value  # Maximizer chooses the best move\n",
        "        else:\n",
        "            self.value = self.children[0].value  # Minimizer chooses the worst move\n",
        "        self.value_is_assigned = True\n",
        "\n",
        "        return self.value\n",
        "If the value is already assigned, we return it. Otherwise, we sort the children based on their values and choose the best one for the maximizer or the worst one for the minimizer."
      ]
    },
    {
      "cell_type": "code",
      "execution_count": null,
      "metadata": {
        "id": "Q7ivrzn1FYvk"
      },
      "outputs": [],
      "source": [
        "class SearchTreeNode:\n",
        "    def __init__(self, board_instance, playing_as, ply=0):\n",
        "        self.children = []\n",
        "        self.value_is_assigned = False\n",
        "        self.ply_depth = ply\n",
        "        self.current_board = board_instance\n",
        "        self.move_for = playing_as\n",
        "\n",
        "        # In Nim, the state is \"Win\" when all piles are empty\n",
        "        # The player who just moved (took the last stick) wins\n",
        "        if self.current_board.state == \"Win\":\n",
        "            # If current state is a win, the previous player (who just moved) won\n",
        "            if (self.ply_depth % 2) == 1:  # Previous player was maximizer\n",
        "                self.value = 1\n",
        "            else:  # Previous player was minimizer\n",
        "                self.value = -1\n",
        "            self.value_is_assigned = True\n",
        "        elif self.current_board.state == \"U\":\n",
        "            self.generate_children()\n",
        "\n",
        "            # If no more moves are possible, current player loses\n",
        "            if not self.children:\n",
        "                if (self.ply_depth % 2) == 0:  # Current player is maximizer\n",
        "                    self.value = -1\n",
        "                else:  # Current player is minimizer\n",
        "                    self.value = 1\n",
        "                self.value_is_assigned = True\n",
        "\n",
        "    def min_max_value(self):\n",
        "        if self.value_is_assigned:\n",
        "            return self.value\n",
        "\n",
        "        self.children = sorted(self.children, key=lambda x: x.min_max_value())\n",
        "\n",
        "        if (self.ply_depth % 2) == 0:\n",
        "            # Maximizing player's move (computer)\n",
        "            self.value = self.children[-1].value\n",
        "        else:\n",
        "            # Minimizing player's move (opponent)\n",
        "            self.value = self.children[0].value\n",
        "        self.value_is_assigned = True\n",
        "\n",
        "        return self.value\n",
        "\n",
        "    def generate_children(self):\n",
        "        for board_for_next_move in self.current_board.all_possible_moves(self.move_for):\n",
        "            self.children.append(SearchTreeNode(\n",
        "                board_for_next_move,\n",
        "                self.current_board.other(self.move_for),\n",
        "                ply=self.ply_depth + 1\n",
        "            ))"
      ]
    },
    {
      "cell_type": "markdown",
      "source": [
        "**Playing the Game**\n",
        "Now that I have the game logic and AI in place, I put everything together in play_Nim()\n",
        "\n",
        "    def play_Nim():\n",
        "        response = input(\"Do you wish to play first (y/n)? \")\n",
        "        players_turn = (response == \"y\")\n",
        "        \n",
        "        cb = CurrentBoard()\n",
        "        print(\"Game starting with piles:\")\n",
        "        cb.display()\n",
        "\n",
        "The game asks if the player wants to go first. Then, the main loop alternates turns\n",
        "\n",
        "    while True:\n",
        "        if players_turn:\n",
        "            print(\"\\nYour turn:\")\n",
        "            cb.display(game_display=True)\n",
        "\n",
        "            while True:\n",
        "                try:\n",
        "                    pile_choice = int(input(\"Choose a pile (0, 1, 2, etc.): \"))\n",
        "                    sticks_to_remove = int(input(f\"How many sticks to remove (1-{cb.piles[pile_choice]}): \"))\n",
        "                    new_piles = cb.piles.copy()\n",
        "                    new_piles[pile_choice] -= sticks_to_remove\n",
        "                    cb = CurrentBoard(new_piles)\n",
        "                    break\n",
        "                except ValueError:\n",
        "                    print(\"Please enter valid numbers\")\n",
        "        else:\n",
        "            print(\"\\nComputer's turn...\")\n",
        "            search_tree = SearchTreeNode(cb, 2)\n",
        "            search_tree.min_max_value()\n",
        "            cb = search_tree.children[-1].current_board\n",
        "\n",
        "The game continues until someone wins. When it’s the AI’s turn, it creates a search tree, finds the best move, and makes it."
      ],
      "metadata": {
        "id": "kpJC3tgGEHid"
      }
    },
    {
      "cell_type": "code",
      "execution_count": null,
      "metadata": {
        "id": "w4Xctv7cFZzV"
      },
      "outputs": [],
      "source": [
        "def play_Nim():\n",
        "    response = input(\"Do you wish to play first (y/n)? \")\n",
        "    players_turn = (response == \"y\")\n",
        "\n",
        "    # Initialize the Nim board with default piles [3,4,5]\n",
        "    cb = CurrentBoard()\n",
        "    print(\"Game starting with piles:\")\n",
        "    cb.display()\n",
        "\n",
        "    player_number = 1\n",
        "    computer_number = 2\n",
        "\n",
        "    while True:\n",
        "        if players_turn:\n",
        "            print(\"\\nYour turn:\")\n",
        "            cb.display(game_display=True)\n",
        "\n",
        "            # Get player's move\n",
        "            while True:\n",
        "                try:\n",
        "                    pile_choice = int(input(\"Choose a pile (0, 1, 2, etc.): \"))\n",
        "                    if pile_choice < 0 or pile_choice >= len(cb.piles):\n",
        "                        print(f\"Invalid pile. Choose between 0 and {len(cb.piles)-1}\")\n",
        "                        continue\n",
        "\n",
        "                    sticks_to_remove = int(input(f\"How many sticks to remove (1-{cb.piles[pile_choice]}): \"))\n",
        "                    if sticks_to_remove < 1 or sticks_to_remove > cb.piles[pile_choice]:\n",
        "                        print(f\"Invalid number. You can remove 1 to {cb.piles[pile_choice]} sticks\")\n",
        "                        continue\n",
        "\n",
        "                    # Create new board with the move applied\n",
        "                    new_piles = cb.piles.copy()\n",
        "                    new_piles[pile_choice] -= sticks_to_remove\n",
        "                    cb = CurrentBoard(new_piles)\n",
        "                    break\n",
        "                except ValueError:\n",
        "                    print(\"Please enter valid numbers\")\n",
        "\n",
        "            print(\"\\nAfter your move:\")\n",
        "            cb.display()\n",
        "\n",
        "        else:\n",
        "            print(\"\\nComputer's turn...\")\n",
        "            # Create search tree and find best move\n",
        "            search_tree = SearchTreeNode(cb, computer_number)\n",
        "            search_tree.min_max_value()\n",
        "\n",
        "            # Select the best move for computer\n",
        "            cb = search_tree.children[-1].current_board\n",
        "\n",
        "            print(\"Computer made its move:\")\n",
        "            cb.display()\n",
        "\n",
        "        # Check if game is over\n",
        "        if cb.state == \"Win\":\n",
        "            if players_turn:\n",
        "                print(\"You win! Well played!\")\n",
        "            else:\n",
        "                print(\"Computer wins! Better luck next time.\")\n",
        "            break\n",
        "\n",
        "        players_turn = not players_turn"
      ]
    },
    {
      "cell_type": "markdown",
      "source": [
        "**Final Thoughts and Conclusion**\n",
        "\n",
        "The minimax AI plays perfectly, and it's tough to beat. The challenge comes from thinking ahead and trying to force the AI into a losing position from the very start. Even though minimax is effective, it has limitations: it looks at all possible moves, which can slow down decisions in larger versions of Nim. Adding alpha-beta pruning could make it more efficient.\n",
        "\n",
        "Ultimately, this project showed me just how hard it is to beat an AI that has perfect knowledge of the game. If I want to win, I have to think multiple steps ahead just like the AI does. That makes it both frustrating and fun at the same time."
      ],
      "metadata": {
        "id": "5xlRBh1TEeY7"
      }
    },
    {
      "cell_type": "code",
      "execution_count": 1,
      "metadata": {
        "colab": {
          "base_uri": "https://localhost:8080/",
          "height": 141
        },
        "id": "CIDRjqJOFdb1",
        "outputId": "219a50ed-70c9-4ef2-e076-bd282a1e343e"
      },
      "outputs": [
        {
          "output_type": "error",
          "ename": "NameError",
          "evalue": "name 'play_Nim' is not defined",
          "traceback": [
            "\u001b[0;31m---------------------------------------------------------------------------\u001b[0m",
            "\u001b[0;31mNameError\u001b[0m                                 Traceback (most recent call last)",
            "\u001b[0;32m<ipython-input-1-a8b2c89c6673>\u001b[0m in \u001b[0;36m<cell line: 0>\u001b[0;34m()\u001b[0m\n\u001b[0;32m----> 1\u001b[0;31m \u001b[0mplay_Nim\u001b[0m\u001b[0;34m(\u001b[0m\u001b[0;34m)\u001b[0m\u001b[0;34m\u001b[0m\u001b[0;34m\u001b[0m\u001b[0m\n\u001b[0m",
            "\u001b[0;31mNameError\u001b[0m: name 'play_Nim' is not defined"
          ]
        }
      ],
      "source": [
        "play_Nim()"
      ]
    }
  ],
  "metadata": {
    "colab": {
      "provenance": [],
      "authorship_tag": "ABX9TyPqEImD15YTwKq+/v6SmjWg",
      "include_colab_link": true
    },
    "kernelspec": {
      "display_name": "Python 3",
      "name": "python3"
    },
    "language_info": {
      "name": "python"
    }
  },
  "nbformat": 4,
  "nbformat_minor": 0
}