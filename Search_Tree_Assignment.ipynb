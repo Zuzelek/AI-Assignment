{
  "nbformat": 4,
  "nbformat_minor": 0,
  "metadata": {
    "colab": {
      "provenance": [],
      "authorship_tag": "ABX9TyNKc55amqZ0VUHnNAHYM+lo",
      "include_colab_link": true
    },
    "kernelspec": {
      "name": "python3",
      "display_name": "Python 3"
    },
    "language_info": {
      "name": "python"
    }
  },
  "cells": [
    {
      "cell_type": "markdown",
      "metadata": {
        "id": "view-in-github",
        "colab_type": "text"
      },
      "source": [
        "<a href=\"https://colab.research.google.com/github/Zuzelek/AI-Assignment/blob/master/Search_Tree_Assignment.ipynb\" target=\"_parent\"><img src=\"https://colab.research.google.com/assets/colab-badge.svg\" alt=\"Open In Colab\"/></a>"
      ]
    },
    {
      "cell_type": "code",
      "execution_count": null,
      "metadata": {
        "id": "pvT2fuBnBavy",
        "colab": {
          "base_uri": "https://localhost:8080/",
          "height": 106
        },
        "outputId": "f6338a12-732c-4a8d-fef2-1be3057d7888"
      },
      "outputs": [
        {
          "output_type": "error",
          "ename": "SyntaxError",
          "evalue": "invalid syntax. Perhaps you forgot a comma? (<ipython-input-1-5bf9af02d849>, line 1)",
          "traceback": [
            "\u001b[0;36m  File \u001b[0;32m\"<ipython-input-1-5bf9af02d849>\"\u001b[0;36m, line \u001b[0;32m1\u001b[0m\n\u001b[0;31m    8-Puzzle (Sliding Puzzle)\u001b[0m\n\u001b[0m              ^\u001b[0m\n\u001b[0;31mSyntaxError\u001b[0m\u001b[0;31m:\u001b[0m invalid syntax. Perhaps you forgot a comma?\n"
          ]
        }
      ],
      "source": [
        "Rules of Nim\n",
        "The players alternate turns. On each player's turn they may remove any number of sticks from one of the piles, up to the number of sticks remaining in that pile; but they can only take from a single pile on a given turn. The goal is to take the last stick. Whoever takes the last stick wins.\n"
      ]
    },
    {
      "cell_type": "code",
      "source": [
        "class CurrentBoard():\n",
        "    def __init__(self, piles=None):\n",
        "        # Default initialization with 3 piles of different sizes\n",
        "        if piles is None:\n",
        "            self.piles = [3, 4, 5]\n",
        "        else:\n",
        "            self.piles = piles.copy()\n",
        "        self.state = self.state_of_board()\n",
        "\n",
        "    # Display the Nim board\n",
        "    def display(self, game_display=False):\n",
        "        for i, pile in enumerate(self.piles):\n",
        "            sticks = \"|\" * pile\n",
        "            if game_display:\n",
        "                print(f\"Pile {i}: {sticks} ({pile} sticks)\")\n",
        "            else:\n",
        "                print(f\"Pile {i}: {sticks}\")\n",
        "\n",
        "    def all_possible_moves(self, player=None):\n",
        "        possible_moves = []\n",
        "        for pile_index in range(len(self.piles)):\n",
        "            # For each pile, player can remove 1 to all sticks\n",
        "            for sticks_to_remove in range(1, self.piles[pile_index] + 1):\n",
        "                # Creating a new board state with sticks removed from the current pile\n",
        "                new_piles = self.piles.copy()\n",
        "                new_piles[pile_index] -= sticks_to_remove\n",
        "                possible_moves.append(CurrentBoard(new_piles))\n",
        "\n",
        "        return possible_moves\n",
        "\n",
        "    def other(self, player):\n",
        "        #\n",
        "        if player == 1:\n",
        "            return 2\n",
        "        else:\n",
        "            return 1\n",
        "\n",
        "    def state_of_board(self):\n",
        "        # Check if all piles are empty\n",
        "        if sum(self.piles) == 0:\n",
        "            return \"Win\"  # Indicating a win for the player who just moved\n",
        "        else:\n",
        "            return \"U\"  # Unfinished - the game continues"
      ],
      "metadata": {
        "id": "-xXGZl2RFV01"
      },
      "execution_count": null,
      "outputs": []
    },
    {
      "cell_type": "code",
      "source": [
        "currentboard = CurrentBoard()\n",
        "currentboard.display()"
      ],
      "metadata": {
        "id": "eCuoBRWkK1lw",
        "outputId": "1bb07ec9-e708-4cd4-cf7c-aa888443b937",
        "colab": {
          "base_uri": "https://localhost:8080/"
        }
      },
      "execution_count": null,
      "outputs": [
        {
          "output_type": "stream",
          "name": "stdout",
          "text": [
            "Pile 0: |||\n",
            "Pile 1: ||||\n",
            "Pile 2: |||||\n"
          ]
        }
      ]
    },
    {
      "cell_type": "code",
      "source": [
        "class SearchTreeNode:\n",
        "\n",
        "  def __init__(self,board_instance,playing_as, ply=0):\n",
        "    self.children = []\n",
        "    self.value_is_assigned = False\n",
        "    self.ply_depth = ply\n",
        "    self.current_board = board_instance\n",
        "    self.move_for = playing_as\n",
        "    if self.current_board.state == \"U\":\n",
        "      self.generate_children()\n",
        "    else:   # Game over\n",
        "      if self.current_board.state == \"D\":\n",
        "        self.value = 0\n",
        "      else:\n",
        "        if ((self.ply_depth % 2) == 0):\n",
        "          self.value = -1\n",
        "        else:\n",
        "          self.value = 1\n",
        "      self.value_is_assigned = True\n",
        "\n",
        "  def min_max_value(self):\n",
        "    if self.value_is_assigned:\n",
        "      return self.value\n",
        "\n",
        "    self.children  = sorted(self.children, key = lambda x:x.min_max_value())\n",
        "\n",
        "    if ((self.ply_depth % 2) == 0):\n",
        "      # computers move\n",
        "      self.value = self.children[-1].value\n",
        "    else:\n",
        "      #players move\n",
        "      self.value = self.children[0].value\n",
        "    self.value_is_assigned = True\n",
        "\n",
        "    return self.value\n",
        "\n",
        "  def generate_children(self):\n",
        "    for board_for_next_move in self.current_board.all_possible_moves(self.move_for):\n",
        "      self.children.append(SearchTreeNode(board_for_next_move,self.current_board.other(self.move_for), ply = self.ply_depth +1))"
      ],
      "metadata": {
        "id": "Q7ivrzn1FYvk"
      },
      "execution_count": null,
      "outputs": []
    },
    {
      "cell_type": "code",
      "source": [
        "def play_Tic_Tac_Toe():\n",
        "  response = input(\"Do you wish to play first (y/n) ?\")\n",
        "  players_turn  = (response == \"y\")\n",
        "\n",
        "  response = input(\"Do you wish to play X or O  (X/O) ?\")\n",
        "  cb = CurrentBoard()\n",
        "  player_is_playing = cb.other(cb.other(response))\n",
        "\n",
        "  for _ in range(10):\n",
        "\n",
        "    if players_turn:\n",
        "      cb.display(game_display=True)\n",
        "      choice = input(\"Make your move \")\n",
        "      ind = int(choice)\n",
        "      cb = CurrentBoard(cb.board[:ind] + player_is_playing + cb.board[ind+1 :])\n",
        "      cb.display()\n",
        "\n",
        "    else:\n",
        "      search_tree = SearchTreeNode(cb,cb.other(player_is_playing))\n",
        "      search_tree.min_max_value()\n",
        "      cb = search_tree.children[-1].current_board\n",
        "    if cb.state != \"U\":\n",
        "      if cb.state == \"D\":\n",
        "        print( \" I cant believe it you drew !!\")\n",
        "      else:\n",
        "        if players_turn:\n",
        "          print( \"This is impossible!!!!\" )\n",
        "        else:\n",
        "          print(\"Too easy loser !!!\")\n",
        "          cb.display()\n",
        "\n",
        "      break\n",
        "\n",
        "    players_turn = not players_turn"
      ],
      "metadata": {
        "id": "w4Xctv7cFZzV"
      },
      "execution_count": null,
      "outputs": []
    },
    {
      "cell_type": "code",
      "source": [
        "cb = CurrentBoard(\"X0X0X00X0\")\n",
        "cb.state_of_board()"
      ],
      "metadata": {
        "colab": {
          "base_uri": "https://localhost:8080/",
          "height": 35
        },
        "id": "aOlN0A3LFkcN",
        "outputId": "7624e6e3-cd97-458a-8c26-ecb7aab5c8df"
      },
      "execution_count": null,
      "outputs": [
        {
          "output_type": "execute_result",
          "data": {
            "text/plain": [
              "'D'"
            ],
            "application/vnd.google.colaboratory.intrinsic+json": {
              "type": "string"
            }
          },
          "metadata": {},
          "execution_count": 9
        }
      ]
    },
    {
      "cell_type": "code",
      "source": [
        "play_Tic_Tac_Toe()"
      ],
      "metadata": {
        "colab": {
          "base_uri": "https://localhost:8080/"
        },
        "id": "CIDRjqJOFdb1",
        "outputId": "e02c81fc-2140-4715-879c-1b444322978b"
      },
      "execution_count": null,
      "outputs": [
        {
          "output_type": "stream",
          "name": "stdout",
          "text": [
            "Do you wish to play first (y/n) ?Y\n",
            "Do you wish to play X or O  (X/O) ?O\n",
            "0|1|2\n",
            "-----\n",
            "3|4|5\n",
            "-----\n",
            "6|7|X\n",
            "Make your move 0\n",
            "O| | \n",
            "-----\n",
            " | | \n",
            "-----\n",
            " | |X\n",
            "O|1|2\n",
            "-----\n",
            "3|4|5\n",
            "-----\n",
            "6|X|X\n",
            "Make your move 6\n",
            "O| | \n",
            "-----\n",
            " | | \n",
            "-----\n",
            "O|X|X\n",
            "O|1|2\n",
            "-----\n",
            "X|4|5\n",
            "-----\n",
            "O|X|X\n",
            "Make your move 2\n",
            "O| |O\n",
            "-----\n",
            "X| | \n",
            "-----\n",
            "O|X|X\n",
            "O|X|O\n",
            "-----\n",
            "X|4|5\n",
            "-----\n",
            "O|X|X\n",
            "Make your move 4\n",
            "O|X|O\n",
            "-----\n",
            "X|O| \n",
            "-----\n",
            "O|X|X\n",
            " I cant believe it you drew !!\n"
          ]
        }
      ]
    }
  ]
}